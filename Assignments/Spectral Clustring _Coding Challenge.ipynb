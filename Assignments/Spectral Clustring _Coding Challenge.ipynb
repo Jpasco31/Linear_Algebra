{
 "cells": [
  {
   "cell_type": "markdown",
   "id": "a348828d-2b20-410f-87f1-e8eda854ebd9",
   "metadata": {},
   "source": [
    "# Assigment 1"
   ]
  },
  {
   "cell_type": "markdown",
   "id": "95974d78-5c5f-4173-9cc2-1b3bad0c5fd6",
   "metadata": {},
   "source": [
    "## Spectral Clustering\n",
    "- Read about spectral clustering module in Python's Scikit Learn Package.\n",
    "\n",
    "- Choose a dataset from https://datasetsearch.research.google.com/.\n",
    "\n",
    "- Perform spectral clustering from your chosen dataset, derive conclusions from the result.\n",
    "\n",
    "- NOTE: You should have a different dataset from your classmates, otherwise both of you will recieve a failing grade."
   ]
  },
  {
   "cell_type": "markdown",
   "id": "1d11b8c7-294d-42a8-9539-3da928788f11",
   "metadata": {},
   "source": [
    "## Chosen Dataset \n",
    "## IoT dataset for Intrusion Detection Systems (IDS)\n",
    "\n",
    "Description:\\\n",
    "The BoTNeTIoT-L01 dataset is a refined version of the detection_of_IoT_botnet_attacks_N_BaIoT (BoTNeTIoT) dataset, consolidating IoT device traffic data into 10-second time windows to reduce redundancy. The dataset captures traffic from nine IoT devices, including two types of botnet attacks (Mirai and Gafgyt). It features twenty-three statistically engineered features derived from .pcap files, computed with seven statistical measures over the time window of 10 seconds (L0.1). These measures include mean, variance, count, magnitude, radius, covariance, and correlation coefficient. The features are extracted from packet count, jitter, size of outbound packets only, and outbound and inbound packets together. Class labels (0 for attacks, 1 for normal samples) categorize the data, and the decay factor value (0.1) is used consistently throughout the dataset and associated papers to denote the time window. This dataset is valuable for research in IoT security and botnet detection, offering a focused and feature-rich perspective on network traffic behavior.\n",
    "\n",
    "Reference:\n",
    "- A. Alhowaide, I. Alsmadi, J. Tang. “Towards the design of real-time autonomous IoT NIDS”, Cluster Computing (2021), pages 1-14, Jan 2021.\\\n",
    "- A. Alhowaide, I. Alsmadi, J. Tang, “Features Quality Impact on Cyber Physical Security Systems”, 2019 IEEE 10th Annual Information Technology, Electronics and Mobile Communication Conference (IEMCON), Oct. 2019.\\\n",
    "- A. Alhowaide, I. Alsmadi, J. Tang. “PCA, Random-Forest and Pearson Correlation for Dimensionality Reduction in IoT IDS”, 2020 IEEE International IOT, Electronics and Mechatronics Conference (IEMTRONICS), pages. 1-6. Vancouver, BC, Canada, Sept. 2020. \\\n",
    "- A. Alhowaide, I. Alsmadi, J. Tang. “An Ensemble Feature Selection Method for IoT IDS”, 2020 IEEE 6th International Conference on Dependability in Sensor, Cloud and Big Data Systems and Application (DependSys), Fiji, Dec. 2020.\n",
    "\n",
    "### Scope and Limitations\n",
    "ONly a portion of the data set was used around 5000 non-duplicated dataset. "
   ]
  },
  {
   "cell_type": "code",
   "execution_count": 1,
   "id": "9b204ced-3272-46f9-a725-d4361318c4d1",
   "metadata": {},
   "outputs": [],
   "source": [
    "import pandas as pd\n",
    "import matplotlib.pyplot as plt\n",
    "from sklearn.cluster import SpectralClustering\n",
    "from sklearn.preprocessing import normalize\n",
    "from sklearn.decomposition import PCA\n",
    "from sklearn.metrics import silhouette_score\n",
    "from sklearn.metrics.pairwise import pairwise_kernels\n",
    "from sklearn.pipeline import Pipeline"
   ]
  },
  {
   "cell_type": "code",
   "execution_count": 3,
   "id": "2d6212d8-92b8-49c8-81af-82501ec6c1b7",
   "metadata": {},
   "outputs": [
    {
     "data": {
      "text/html": [
       "<div>\n",
       "<style scoped>\n",
       "    .dataframe tbody tr th:only-of-type {\n",
       "        vertical-align: middle;\n",
       "    }\n",
       "\n",
       "    .dataframe tbody tr th {\n",
       "        vertical-align: top;\n",
       "    }\n",
       "\n",
       "    .dataframe thead th {\n",
       "        text-align: right;\n",
       "    }\n",
       "</style>\n",
       "<table border=\"1\" class=\"dataframe\">\n",
       "  <thead>\n",
       "    <tr style=\"text-align: right;\">\n",
       "      <th></th>\n",
       "      <th>Unnamed: 0</th>\n",
       "      <th>MI_dir_L0.1_weight</th>\n",
       "      <th>MI_dir_L0.1_mean</th>\n",
       "      <th>MI_dir_L0.1_variance</th>\n",
       "      <th>H_L0.1_weight</th>\n",
       "      <th>H_L0.1_mean</th>\n",
       "      <th>H_L0.1_variance</th>\n",
       "      <th>HH_L0.1_weight</th>\n",
       "      <th>HH_L0.1_mean</th>\n",
       "      <th>HH_L0.1_std</th>\n",
       "      <th>...</th>\n",
       "      <th>HH_jit_L0.1_mean</th>\n",
       "      <th>HH_jit_L0.1_variance</th>\n",
       "      <th>HpHp_L0.1_weight</th>\n",
       "      <th>HpHp_L0.1_mean</th>\n",
       "      <th>HpHp_L0.1_std</th>\n",
       "      <th>HpHp_L0.1_magnitude</th>\n",
       "      <th>HpHp_L0.1_radius</th>\n",
       "      <th>HpHp_L0.1_covariance</th>\n",
       "      <th>HpHp_L0.1_pcc</th>\n",
       "      <th>label</th>\n",
       "    </tr>\n",
       "  </thead>\n",
       "  <tbody>\n",
       "    <tr>\n",
       "      <th>1857725</th>\n",
       "      <td>3782147</td>\n",
       "      <td>2950.146671</td>\n",
       "      <td>311.955429</td>\n",
       "      <td>60953.818078</td>\n",
       "      <td>2950.146671</td>\n",
       "      <td>311.955429</td>\n",
       "      <td>60953.818078</td>\n",
       "      <td>1505.293386</td>\n",
       "      <td>553.668778</td>\n",
       "      <td>12.787258</td>\n",
       "      <td>...</td>\n",
       "      <td>2.304175e+00</td>\n",
       "      <td>3.459411e+09</td>\n",
       "      <td>1504.284102</td>\n",
       "      <td>554.0</td>\n",
       "      <td>0.00002</td>\n",
       "      <td>554.0</td>\n",
       "      <td>4.074536e-10</td>\n",
       "      <td>0.0</td>\n",
       "      <td>0.0</td>\n",
       "      <td>0</td>\n",
       "    </tr>\n",
       "    <tr>\n",
       "      <th>1608</th>\n",
       "      <td>1608</td>\n",
       "      <td>1947.176644</td>\n",
       "      <td>74.058476</td>\n",
       "      <td>1.499162</td>\n",
       "      <td>1947.176644</td>\n",
       "      <td>74.058476</td>\n",
       "      <td>1.499162</td>\n",
       "      <td>1941.426776</td>\n",
       "      <td>74.000000</td>\n",
       "      <td>0.000005</td>\n",
       "      <td>...</td>\n",
       "      <td>5.853347e+05</td>\n",
       "      <td>8.811212e+14</td>\n",
       "      <td>1.000000</td>\n",
       "      <td>74.0</td>\n",
       "      <td>0.00000</td>\n",
       "      <td>74.0</td>\n",
       "      <td>0.000000e+00</td>\n",
       "      <td>0.0</td>\n",
       "      <td>0.0</td>\n",
       "      <td>0</td>\n",
       "    </tr>\n",
       "    <tr>\n",
       "      <th>882203</th>\n",
       "      <td>945695</td>\n",
       "      <td>5007.278476</td>\n",
       "      <td>340.633954</td>\n",
       "      <td>59874.376119</td>\n",
       "      <td>5007.278476</td>\n",
       "      <td>340.633954</td>\n",
       "      <td>59874.376119</td>\n",
       "      <td>1.000000</td>\n",
       "      <td>60.000000</td>\n",
       "      <td>0.000000</td>\n",
       "      <td>...</td>\n",
       "      <td>1.507660e+09</td>\n",
       "      <td>0.000000e+00</td>\n",
       "      <td>1.000000</td>\n",
       "      <td>60.0</td>\n",
       "      <td>0.00000</td>\n",
       "      <td>60.0</td>\n",
       "      <td>0.000000e+00</td>\n",
       "      <td>0.0</td>\n",
       "      <td>0.0</td>\n",
       "      <td>0</td>\n",
       "    </tr>\n",
       "    <tr>\n",
       "      <th>1735907</th>\n",
       "      <td>3660329</td>\n",
       "      <td>4174.923567</td>\n",
       "      <td>340.356772</td>\n",
       "      <td>59873.624507</td>\n",
       "      <td>4174.923567</td>\n",
       "      <td>340.356772</td>\n",
       "      <td>59873.624507</td>\n",
       "      <td>1.000000</td>\n",
       "      <td>60.000000</td>\n",
       "      <td>0.000000</td>\n",
       "      <td>...</td>\n",
       "      <td>1.507656e+09</td>\n",
       "      <td>0.000000e+00</td>\n",
       "      <td>1.000000</td>\n",
       "      <td>60.0</td>\n",
       "      <td>0.00000</td>\n",
       "      <td>60.0</td>\n",
       "      <td>0.000000e+00</td>\n",
       "      <td>0.0</td>\n",
       "      <td>0.0</td>\n",
       "      <td>0</td>\n",
       "    </tr>\n",
       "    <tr>\n",
       "      <th>559662</th>\n",
       "      <td>623154</td>\n",
       "      <td>6647.805508</td>\n",
       "      <td>69.314684</td>\n",
       "      <td>43.901096</td>\n",
       "      <td>6647.805508</td>\n",
       "      <td>69.314684</td>\n",
       "      <td>43.901096</td>\n",
       "      <td>1.000000</td>\n",
       "      <td>60.000000</td>\n",
       "      <td>0.000000</td>\n",
       "      <td>...</td>\n",
       "      <td>1.507657e+09</td>\n",
       "      <td>0.000000e+00</td>\n",
       "      <td>1.000000</td>\n",
       "      <td>60.0</td>\n",
       "      <td>0.00000</td>\n",
       "      <td>60.0</td>\n",
       "      <td>0.000000e+00</td>\n",
       "      <td>0.0</td>\n",
       "      <td>0.0</td>\n",
       "      <td>0</td>\n",
       "    </tr>\n",
       "  </tbody>\n",
       "</table>\n",
       "<p>5 rows × 25 columns</p>\n",
       "</div>"
      ],
      "text/plain": [
       "         Unnamed: 0  MI_dir_L0.1_weight  MI_dir_L0.1_mean  \\\n",
       "1857725     3782147         2950.146671        311.955429   \n",
       "1608           1608         1947.176644         74.058476   \n",
       "882203       945695         5007.278476        340.633954   \n",
       "1735907     3660329         4174.923567        340.356772   \n",
       "559662       623154         6647.805508         69.314684   \n",
       "\n",
       "         MI_dir_L0.1_variance  H_L0.1_weight  H_L0.1_mean  H_L0.1_variance  \\\n",
       "1857725          60953.818078    2950.146671   311.955429     60953.818078   \n",
       "1608                 1.499162    1947.176644    74.058476         1.499162   \n",
       "882203           59874.376119    5007.278476   340.633954     59874.376119   \n",
       "1735907          59873.624507    4174.923567   340.356772     59873.624507   \n",
       "559662              43.901096    6647.805508    69.314684        43.901096   \n",
       "\n",
       "         HH_L0.1_weight  HH_L0.1_mean  HH_L0.1_std  ...  HH_jit_L0.1_mean  \\\n",
       "1857725     1505.293386    553.668778    12.787258  ...      2.304175e+00   \n",
       "1608        1941.426776     74.000000     0.000005  ...      5.853347e+05   \n",
       "882203         1.000000     60.000000     0.000000  ...      1.507660e+09   \n",
       "1735907        1.000000     60.000000     0.000000  ...      1.507656e+09   \n",
       "559662         1.000000     60.000000     0.000000  ...      1.507657e+09   \n",
       "\n",
       "         HH_jit_L0.1_variance  HpHp_L0.1_weight  HpHp_L0.1_mean  \\\n",
       "1857725          3.459411e+09       1504.284102           554.0   \n",
       "1608             8.811212e+14          1.000000            74.0   \n",
       "882203           0.000000e+00          1.000000            60.0   \n",
       "1735907          0.000000e+00          1.000000            60.0   \n",
       "559662           0.000000e+00          1.000000            60.0   \n",
       "\n",
       "         HpHp_L0.1_std  HpHp_L0.1_magnitude  HpHp_L0.1_radius  \\\n",
       "1857725        0.00002                554.0      4.074536e-10   \n",
       "1608           0.00000                 74.0      0.000000e+00   \n",
       "882203         0.00000                 60.0      0.000000e+00   \n",
       "1735907        0.00000                 60.0      0.000000e+00   \n",
       "559662         0.00000                 60.0      0.000000e+00   \n",
       "\n",
       "         HpHp_L0.1_covariance  HpHp_L0.1_pcc  label  \n",
       "1857725                   0.0            0.0      0  \n",
       "1608                      0.0            0.0      0  \n",
       "882203                    0.0            0.0      0  \n",
       "1735907                   0.0            0.0      0  \n",
       "559662                    0.0            0.0      0  \n",
       "\n",
       "[5 rows x 25 columns]"
      ]
     },
     "execution_count": 3,
     "metadata": {},
     "output_type": "execute_result"
    }
   ],
   "source": [
    "file_path = \"./BotNeTIoT-L01_label_NoDuplicates.csv\"\n",
    "\n",
    "data = pd.read_csv(file_path)\n",
    "\n",
    "# Sample 5000 rows randomly\n",
    "sampled_data = data.sample(n=5000, random_state=42)\n",
    "sample_data = data;\n",
    "sampled_data.head()"
   ]
  },
  {
   "cell_type": "code",
   "execution_count": 4,
   "id": "08a0dce0-7a2d-4dd9-9340-67d024bf6f2b",
   "metadata": {},
   "outputs": [
    {
     "data": {
      "text/html": [
       "<div>\n",
       "<style scoped>\n",
       "    .dataframe tbody tr th:only-of-type {\n",
       "        vertical-align: middle;\n",
       "    }\n",
       "\n",
       "    .dataframe tbody tr th {\n",
       "        vertical-align: top;\n",
       "    }\n",
       "\n",
       "    .dataframe thead th {\n",
       "        text-align: right;\n",
       "    }\n",
       "</style>\n",
       "<table border=\"1\" class=\"dataframe\">\n",
       "  <thead>\n",
       "    <tr style=\"text-align: right;\">\n",
       "      <th></th>\n",
       "      <th>P1</th>\n",
       "      <th>P2</th>\n",
       "    </tr>\n",
       "  </thead>\n",
       "  <tbody>\n",
       "    <tr>\n",
       "      <th>0</th>\n",
       "      <td>-0.658439</td>\n",
       "      <td>-0.432082</td>\n",
       "    </tr>\n",
       "    <tr>\n",
       "      <th>1</th>\n",
       "      <td>-0.658317</td>\n",
       "      <td>-0.432969</td>\n",
       "    </tr>\n",
       "  </tbody>\n",
       "</table>\n",
       "</div>"
      ],
      "text/plain": [
       "         P1        P2\n",
       "0 -0.658439 -0.432082\n",
       "1 -0.658317 -0.432969"
      ]
     },
     "execution_count": 4,
     "metadata": {},
     "output_type": "execute_result"
    }
   ],
   "source": [
    "# Normalizing the Data\n",
    "X_normalized = normalize(sampled_data)  # Replace 'normalize' with the actual normalization function you intend to use\n",
    "\n",
    "# Converting the numpy array into a pandas DataFrame\n",
    "X_normalized = pd.DataFrame(X_normalized, columns=sampled_data.columns)  # Assuming your normalization function returns a NumPy array\n",
    "\n",
    "# Reducing the dimensions of the data using PCA\n",
    "pca = PCA(n_components=2)\n",
    "X_principal = pca.fit_transform(X_normalized)\n",
    "X_principal = pd.DataFrame(X_principal, columns=['P1', 'P2'])\n",
    "\n",
    "# Displaying the first few rows of the resulting DataFrame\n",
    "X_principal.head(2)"
   ]
  },
  {
   "cell_type": "code",
   "execution_count": 7,
   "id": "7ed2181f-9cd0-4b76-bf0d-03d24c34dc0f",
   "metadata": {},
   "outputs": [
    {
     "data": {
      "image/png": "[encoded data removed]",
      "text/plain": [
       "<Figure size 640x480 with 1 Axes>"
      ]
     },
     "metadata": {},
     "output_type": "display_data"
    }
   ],
   "source": [
    "# Building the clustering model\n",
    "spectral_model_rbf = SpectralClustering(n_clusters=3, affinity='rbf')\n",
    "\n",
    "# Training the model and storing the predicted cluster labels\n",
    "labels_rbf = spectral_model_rbf.fit_predict(X_principal)\n",
    "\n",
    "# Visualizing the clustering\n",
    "plt.scatter(X_principal['P1'], X_principal['P2'], c=labels_rbf, cmap=plt.cm.winter)\n",
    "plt.show()\n"
   ]
  },
  {
   "cell_type": "markdown",
   "id": "a110d4de-f748-4424-9071-e9562f88043e",
   "metadata": {},
   "source": [
    "## Conclusion\n",
    "Based on the graph, it's evident that the dataset regarding the detection of IoT botnet attacks is clustered into one group. However, it's noticeable that there's a data point that seems to have shifted away from the main cluster. When there's only one cluster, it suggests that the algorithm didn't find significant differences among our data points to form distinct groups. This implies our data is quite uniform, and the algorithm couldn't pinpoint clear subgroups. Several reasons could account for this, like our data being naturally similar, the clustering algorithm or its settings not being the best match, or perhaps our dataset lacking enough variability to reveal clear clusters. It might be helpful to explore the features in our data, try out different clustering methods or parameters, and seek advice from domain experts if applicable. The absence of multiple clusters could be entirely reasonable based on the characteristics of our data."
   ]
  },
  {
   "cell_type": "markdown",
   "id": "6d462264-0863-4a48-8da6-47013a2fbb31",
   "metadata": {},
   "source": [
    "## Eigenvector Centrality\n",
    "\n",
    "Given the following graph below, find it eigenvector centrality"
   ]
  },
  {
   "cell_type": "code",
   "execution_count": 8,
   "id": "7699f23d-e12f-46ed-bbc5-1334877b40d1",
   "metadata": {},
   "outputs": [
    {
     "data": {
      "image/png": "[encoded data removed]",
      "text/plain": [
       "<Figure size 640x480 with 1 Axes>"
      ]
     },
     "metadata": {},
     "output_type": "display_data"
    }
   ],
   "source": [
    "import matplotlib.pyplot as plt\n",
    "import networkx as nx\n",
    "\n",
    "G = nx.Graph()\n",
    "\n",
    "G.add_edge(\"a\", \"b\", weight=0.6)\n",
    "G.add_edge(\"a\", \"c\", weight=0.2)\n",
    "G.add_edge(\"c\", \"d\", weight=0.1)\n",
    "G.add_edge(\"c\", \"e\", weight=0.7)\n",
    "G.add_edge(\"c\", \"f\", weight=0.9)\n",
    "G.add_edge(\"a\", \"d\", weight=0.3)\n",
    "\n",
    "elarge = [(u, v) for (u, v, d) in G.edges(data=True) if d[\"weight\"] > 0.5]\n",
    "esmall = [(u, v) for (u, v, d) in G.edges(data=True) if d[\"weight\"] <= 0.5]\n",
    "\n",
    "pos = nx.spring_layout(G, seed=7)  # positions for all nodes - seed for reproducibility\n",
    "\n",
    "# nodes\n",
    "nx.draw_networkx_nodes(G, pos, node_size=700)\n",
    "\n",
    "# edges\n",
    "nx.draw_networkx_edges(G, pos, edgelist=elarge, width=6)\n",
    "nx.draw_networkx_edges(\n",
    "    G, pos, edgelist=esmall, width=6, alpha=0.5, edge_color=\"b\", style=\"dashed\"\n",
    ")\n",
    "\n",
    "# node labels\n",
    "nx.draw_networkx_labels(G, pos, font_size=20, font_family=\"sans-serif\")\n",
    "# edge weight labels\n",
    "edge_labels = nx.get_edge_attributes(G, \"weight\")\n",
    "nx.draw_networkx_edge_labels(G, pos, edge_labels)\n",
    "\n",
    "ax = plt.gca()\n",
    "ax.margins(0.08)\n",
    "plt.axis(\"off\")\n",
    "plt.tight_layout()\n",
    "plt.show()"
   ]
  },
  {
   "cell_type": "code",
   "execution_count": 9,
   "id": "1963932c-b81e-4673-9cd2-17911dc7e139",
   "metadata": {},
   "outputs": [
    {
     "data": {
      "text/plain": [
       "{'a': 0.51807347662071,\n",
       " 'b': 0.21182192277183212,\n",
       " 'c': 0.5986761070959697,\n",
       " 'd': 0.4566010978754134,\n",
       " 'e': 0.24477918831750853,\n",
       " 'f': 0.24477918831750853}"
      ]
     },
     "execution_count": 9,
     "metadata": {},
     "output_type": "execute_result"
    }
   ],
   "source": [
    "nx.eigenvector_centrality(G)"
   ]
  },
  {
   "cell_type": "markdown",
   "id": "9615e795-496b-4027-b5fa-0064fd042b0f",
   "metadata": {},
   "source": [
    "# Assignment 2\n",
    "\n",
    "Based on the readings provided; think about an interesting topic that you can find in Reddit (Not COVID-19, its already given in the reading material think of something else).\n",
    "On the topic of your choosing develop a hypothesis and conduct a social network analysis. Find the eigenvector centrality. Which of the nodes are central in terms of eigenvectors? Develop a conclusion from your hypothesis."
   ]
  },
  {
   "cell_type": "markdown",
   "id": "6dcadc4a-949e-4021-a079-770014f31d4f",
   "metadata": {},
   "source": [
    "# On the process of making"
   ]
  }
 ],
 "metadata": {
  "kernelspec": {
   "display_name": "Python 3 (ipykernel)",
   "language": "python",
   "name": "python3"
  },
  "language_info": {
   "codemirror_mode": {
    "name": "ipython",
    "version": 3
   },
   "file_extension": ".py",
   "mimetype": "text/x-python",
   "name": "python",
   "nbconvert_exporter": "python",
   "pygments_lexer": "ipython3",
   "version": "3.11.5"
  }
 },
 "nbformat": 4,
 "nbformat_minor": 5
}
