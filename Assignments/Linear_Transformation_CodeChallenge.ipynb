{
 "cells": [
  {
   "cell_type": "markdown",
   "id": "aa37e677-b82c-4256-8103-1a644ffbba61",
   "metadata": {},
   "source": [
    "# Code Challenges"
   ]
  },
  {
   "cell_type": "markdown",
   "id": "05baaa32-e7dc-4bc5-b139-06112556119f",
   "metadata": {},
   "source": [
    "1. Develop a python function from scratch that will find the determinants of any \n",
    " matrix.\n",
    "\n",
    "2. Develop a python function from scratch that will find both the eigenvectors and eigenvalues of any \n",
    " matrix.\n",
    "\n",
    "3. Test your functions from a randomly generated \n",
    " matrix."
   ]
  },
  {
   "cell_type": "code",
   "execution_count": 21,
   "id": "d5ecc85b-7743-45d0-895c-ef7d924a47a2",
   "metadata": {},
   "outputs": [],
   "source": [
    "#Determinants function\n",
    "from copy import deepcopy\n",
    "\n",
    "def smaller_matrix(original_matrix, row, column):\n",
    "    # the new matrix should not affect the orignal matrix\n",
    "    new_matrix = deepcopy(original_matrix)\n",
    "    # the indices to do the removal depend on the original matrix\n",
    "    new_matrix.remove(original_matrix[row])\n",
    "    for i in range(len(new_matrix)):\n",
    "            new_matrix[i].remove(new_matrix[i][column])\n",
    "    return new_matrix\n",
    "    \n",
    "def determinant(matrix):\n",
    "    num_rows = len(matrix)\n",
    "    for row in matrix:\n",
    "        if len(row) != num_rows:\n",
    "            print(\"Not a square matrix\")\n",
    "            return None\n",
    "    if len(matrix) == 2:\n",
    "        simple_determinant = matrix[0][0] * \\\n",
    "                             matrix[1][1] - \\\n",
    "                             matrix[1][0] * \\\n",
    "                             matrix[0][1] \n",
    "        return simple_determinant\n",
    "    else:\n",
    "        #cofactor expansion\n",
    "        answer = 0\n",
    "        num_columns = num_rows\n",
    "        for j in range(num_columns):\n",
    "            cofactor = (-1) ** (0+j) * matrix[0][j] \\\n",
    "                * determinant(smaller_matrix(matrix, 0, j))\n",
    "            answer += cofactor\n",
    "        return answer"
   ]
  },
  {
   "cell_type": "code",
   "execution_count": 15,
   "id": "4ded85f5-34bc-4d74-b218-85ba01be34f3",
   "metadata": {},
   "outputs": [],
   "source": [
    "import random\n",
    "import numpy as np\n",
    "\n",
    "random_matrix = np.random.randint(1, 10, size=(3, 3))"
   ]
  },
  {
   "cell_type": "code",
   "execution_count": 20,
   "id": "37460cda-a328-4e84-9450-f3468cd38e41",
   "metadata": {},
   "outputs": [
    {
     "name": "stdout",
     "output_type": "stream",
     "text": [
      "Random Matrix:\n",
      "[[3, 7, 3], [9, 5, 6], [2, 5, 1]]\n",
      "Determinant with my function: 51\n",
      "Determinant with numpy: 51.00000000000002\n"
     ]
    }
   ],
   "source": [
    "random_matrix = generate_random_matrix(3)\n",
    "print(\"Random Matrix:\")\n",
    "print(random_matrix)\n",
    "\n",
    "my_det = determinant(random_matrix)\n",
    "print(\"Determinant with my function:\", my_det)\n",
    "\n",
    "numpy_det = np.linalg.det(random_matrix)\n",
    "print(\"Determinant with numpy:\", numpy_det)"
   ]
  },
  {
   "cell_type": "code",
   "execution_count": 67,
   "id": "12e260c6-206d-420d-8221-566411d0584e",
   "metadata": {},
   "outputs": [],
   "source": [
    "from numpy.linalg import eig\n",
    "#Eigenvectors and Eigenvalues function\n",
    "def eigen_decomposition(matrix, num_iterations=100):\n",
    "    matrix = np.array(matrix, dtype=float)\n",
    "    size = matrix.shape[0]\n",
    "\n",
    "    # Initialize a random vector as an initial guess for each eigenvector\n",
    "    eigenvectors = np.eye(size)\n",
    "    eigenvalues = np.zeros(size)\n",
    "\n",
    "    for _ in range(num_iterations):\n",
    "        prev_eigenvectors = np.copy(eigenvectors)  # Store previous eigenvectors for comparison\n",
    "\n",
    "        for i in range(size):\n",
    "            # Calculate the matrix-vector product\n",
    "            Av = np.dot(matrix, eigenvectors[:, i])\n",
    "\n",
    "            # Calculate eigenvalue\n",
    "            eigenvalues[i] = np.dot(Av, eigenvectors[:, i])\n",
    "\n",
    "            # Gram-Schmidt orthogonalization\n",
    "            for j in range(i):\n",
    "                Av -= np.dot(eigenvectors[:, j], Av) * eigenvectors[:, j]\n",
    "            eigenvalues[i] = np.dot(Av, eigenvectors[:, i])\n",
    "            \n",
    "            # Update eigenvector using the normalized matrix-vector product\n",
    "            eigenvectors[:, i] = Av / np.linalg.norm(Av)\n",
    "    return eigenvalues, eigenvectors"
   ]
  },
  {
   "cell_type": "code",
   "execution_count": 68,
   "id": "7af10c81-455e-482f-87c6-e8f9347cff87",
   "metadata": {},
   "outputs": [
    {
     "name": "stdout",
     "output_type": "stream",
     "text": [
      "Random Matrix:\n",
      "[[3, 7, 3], [9, 5, 6], [2, 5, 1]]\n",
      "Eigenvalue with my function [14.4884951  -4.74696078 -0.74153432]\n",
      "Eigenvector with my function [[ 0.55218375 -0.55097323 -0.62571687]\n",
      " [ 0.75173716  0.65358037  0.08788602]\n",
      " [ 0.36053342 -0.51890385  0.77508351]]\n",
      "Eigenvalue with numpy [14.4884951  -4.74696078 -0.74153432]\n",
      "Eigenvector with numpy [[-0.55218375 -0.4826572  -0.51018136]\n",
      " [-0.75173716  0.73696428 -0.09371113]\n",
      " [-0.36053342 -0.47320786  0.85494632]]\n"
     ]
    }
   ],
   "source": [
    "print(\"Random Matrix:\")\n",
    "print(random_matrix)\n",
    "\n",
    "#my function eigen\n",
    "my_eigenvalue, my_eigenvector = eigen_decomposition(random_matrix)\n",
    "print(\"Eigenvalue with my function\", my_eigenvalue)\n",
    "print(\"Eigenvector with my function\", my_eigenvector)\n",
    "\n",
    "#numpy function eigen\n",
    "numpy_eigenvalue, numpy_eigenvector = eig(random_matrix)\n",
    "print(\"Eigenvalue with numpy\", numpy_eigenvalue)\n",
    "print(\"Eigenvector with numpy\", numpy_eigenvector)\n"
   ]
  },
  {
   "cell_type": "code",
   "execution_count": null,
   "id": "48352ed7-2bcf-4600-9669-2170a5e2cbf9",
   "metadata": {},
   "outputs": [],
   "source": []
  }
 ],
 "metadata": {
  "kernelspec": {
   "display_name": "Python 3 (ipykernel)",
   "language": "python",
   "name": "python3"
  },
  "language_info": {
   "codemirror_mode": {
    "name": "ipython",
    "version": 3
   },
   "file_extension": ".py",
   "mimetype": "text/x-python",
   "name": "python",
   "nbconvert_exporter": "python",
   "pygments_lexer": "ipython3",
   "version": "3.11.5"
  }
 },
 "nbformat": 4,
 "nbformat_minor": 5
}
