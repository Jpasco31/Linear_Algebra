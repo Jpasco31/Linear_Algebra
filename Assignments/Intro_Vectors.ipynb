{
 "cells": [
  {
   "cell_type": "markdown",
   "id": "1f9110d5-e5f2-4f49-839a-c9240f51f8f2",
   "metadata": {},
   "source": [
    "# Introduction to Vectors Assignment\n",
    "## Jericho C. Pasco"
   ]
  },
  {
   "cell_type": "markdown",
   "id": "e78ed37f-a1b9-4500-9f6e-dc4d9d6a85ab",
   "metadata": {},
   "source": [
    "### 1. Let $u = (1,-2,4)$ and $v= (3,5,1)$  $w = (2,1,-3)$ find:"
   ]
  },
  {
   "cell_type": "markdown",
   "id": "7261b0df-0b3c-4834-9974-a52e85fdd1d7",
   "metadata": {},
   "source": [
    "a. $3u - 2v = 3u' - 2v' = 3\\begin{bmatrix}1 \\\\ -2\\\\ 4\\end{bmatrix} - 2\\begin{bmatrix}3 \\\\ 5\\\\ 1\\end{bmatrix} = \\begin{bmatrix}3 \\\\ -6\\\\ 12\\end{bmatrix} - \\begin{bmatrix}6 \\\\ 10\\\\ 2\\end{bmatrix} = \\begin{bmatrix}-3 \\\\ -16\\\\ 10\\end{bmatrix} = (-3, -16, 10) $"
   ]
  },
  {
   "cell_type": "markdown",
   "id": "0ce6c1e4-7e2e-4567-8cce-00aa9e27f492",
   "metadata": {},
   "source": [
    "b. $5u + 3v - 4w = 5u' + 3v' - 4w' = 5\\begin{bmatrix}1 \\\\ -2\\\\ 4\\end{bmatrix} + 3\\begin{bmatrix}3 \\\\ 5\\\\ 1\\end{bmatrix} - 4\\begin{bmatrix}2 \\\\ 1\\\\ -3\\end{bmatrix} = \\begin{bmatrix}5 \\\\ -10\\\\ 20\\end{bmatrix} + \\begin{bmatrix}9 \\\\ 15\\\\ 3\\end{bmatrix} - \\begin{bmatrix}8 \\\\ 4\\\\ -12\\end{bmatrix} = \\begin{bmatrix}6 \\\\ 1\\\\ 35\\end{bmatrix}$"
   ]
  },
  {
   "cell_type": "markdown",
   "id": "782a8016-a3af-4dad-b042-38e32ec8100e",
   "metadata": {},
   "source": [
    "c. $u \\cdot v = u' \\cdot v' = \\begin{bmatrix}1 \\\\ -2\\\\ 4\\end{bmatrix} \\cdot \\begin{bmatrix}3 \\\\ 5\\\\ 1\\end{bmatrix} = \\begin{bmatrix}3 \\\\ -10\\\\ 4\\end{bmatrix} = -3$ <br>\n",
    "    $v \\cdot w = v' \\cdot w' = \\begin{bmatrix}3 \\\\ 5\\\\ 1\\end{bmatrix} \\cdot \\begin{bmatrix}2 \\\\ 1\\\\ -3\\end{bmatrix} = \\begin{bmatrix}6 \\\\ 5\\\\ -3\\end{bmatrix} = 8$ <br>\n",
    "    $u \\cdot w = u' \\cdot w' = \\begin{bmatrix}1 \\\\ -2\\\\ 4\\end{bmatrix} \\cdot \\begin{bmatrix}2 \\\\ 1\\\\ -3\\end{bmatrix} = \\begin{bmatrix}2 \\\\ -2\\\\ -12\\end{bmatrix} = -12$"
   ]
  },
  {
   "cell_type": "markdown",
   "id": "ec373da8-4ffb-447e-a794-7136fab8bb93",
   "metadata": {},
   "source": [
    "d. $ ||u|| =  \\sqrt{1^2 + (-2)^2 + 4^2} = \\sqrt{1+4+16} = \\sqrt{21} $ <br>\n",
    "    $ ||v|| = \\sqrt{3^2 + 5^2 + 1^2} = \\sqrt{9+25+1} = \\sqrt{35} $ <br>\n",
    "    $ ||w|| = \\sqrt{2^2 + 1^2 + (-3)^2} = \\sqrt{4+1+9} = \\sqrt{14} $"
   ]
  },
  {
   "cell_type": "markdown",
   "id": "06ea7ae4-b935-432d-b6b8-a1ff714a4c96",
   "metadata": {},
   "source": [
    "e. $\\theta$ is the angle between $u$ and $v$ <br>\n",
    "    $ cos\\theta = \\frac{u \\cdot v}{\\left\\|u\\right\\| \\left\\|v\\right\\|} = \\frac{-3}{\\sqrt{21} \\sqrt{35}} $"
   ]
  },
  {
   "cell_type": "markdown",
   "id": "6ee10a26-de4f-4fe7-83d1-9eba81bae0e8",
   "metadata": {},
   "source": [
    "f. $\\alpha$ is the angle between $v$ and $w$ <br>\n",
    "    $ cos\\alpha = \\frac{v \\cdot w}{\\left\\|v\\right\\| \\left\\|w\\right\\|} = \\frac{8}{\\sqrt{35} \\sqrt{14}} $"
   ]
  },
  {
   "cell_type": "markdown",
   "id": "2d3d83b9-2b23-4d43-8329-9ab845bd8bdd",
   "metadata": {},
   "source": [
    "g. $\\beta$ is the angle between $u$ and $w$ <br>\n",
    "    $ cos\\beta = \\frac{u \\cdot w}{\\left\\|u\\right\\| \\left\\|w\\right\\|} = \\frac{-12}{\\sqrt{21} \\sqrt{14}} $"
   ]
  },
  {
   "cell_type": "markdown",
   "id": "84a55c56-afda-454a-9529-799577df8c65",
   "metadata": {},
   "source": [
    "h. $ d(u,v) = ||u-v|| = \\left\\|\\begin{bmatrix}1 \\\\ -2\\\\ 4\\end{bmatrix} - \\begin{bmatrix}3 \\\\ 5\\\\ 1\\end{bmatrix}\\right\\| = \\left\\|\\begin{bmatrix}-2 \\\\ -7\\\\ 3\\end{bmatrix}\\right\\| = \\sqrt{(-2)^2 + (-7)^2 + 3^2} = \\sqrt{4+49+9} = \\sqrt{62}\n",
    "$"
   ]
  },
  {
   "cell_type": "markdown",
   "id": "01516aa9-e1f6-429f-bf6a-4a2bfcaefa7f",
   "metadata": {},
   "source": [
    "i. $ d(w,v) = ||w-v|| = \\left\\|\\begin{bmatrix}2 \\\\ 1\\\\ -3\\end{bmatrix} - \\begin{bmatrix}3 \\\\ 5\\\\ 1\\end{bmatrix}\\right\\| = \\left\\|\\begin{bmatrix}-1 \\\\ -4\\\\ -4\\end{bmatrix}\\right\\| = \\sqrt{(-1)^2 + (-4)^2 + (-4)^2} = \\sqrt{1+16+16} = \\sqrt{33}\n",
    "$"
   ]
  },
  {
   "cell_type": "markdown",
   "id": "a62057c2-d470-4d6d-852a-c0a69c0ae9db",
   "metadata": {},
   "source": [
    "j. $ d(u,w) = ||u-w|| = \\left\\|\\begin{bmatrix}1 \\\\ -2\\\\ 4\\end{bmatrix} - \\begin{bmatrix}2 \\\\ 1\\\\ -3\\end{bmatrix}\\right\\| = \\left\\|\\begin{bmatrix}-1 \\\\ -3\\\\ 7\\end{bmatrix}\\right\\| = \\sqrt{(-1)^2 + (-3)^2 + 7^2} = \\sqrt{1+9+49} = \\sqrt{59}\n",
    "$"
   ]
  },
  {
   "cell_type": "markdown",
   "id": "9a71b821-bbc6-484f-9afa-3e86c4c72a42",
   "metadata": {},
   "source": [
    "k. $proj(u,v) = \\frac{u \\cdot v}{\\|v\\|^2} \\cdot v = \\frac{-3}{35} \\cdot \\begin{bmatrix}3 \\\\ 5\\\\ 1\\end{bmatrix} = (-\\frac{9}{35}, -\\frac{3}{7}, -\\frac{3}{35})$"
   ]
  },
  {
   "cell_type": "markdown",
   "id": "43ce60c1-9e26-4fd1-a615-e2babb50e469",
   "metadata": {},
   "source": [
    "l. $proj(w,v) = \\frac{w \\cdot v}{\\|v\\|^2} \\cdot v = \\frac{8}{35} \\cdot \\begin{bmatrix}3 \\\\ 5\\\\ 1\\end{bmatrix} = (\\frac{24}{35}, \\frac{8}{7}, \\frac{8}{35})$"
   ]
  },
  {
   "cell_type": "markdown",
   "id": "4e60a832-f277-49d4-96f7-ad178731b451",
   "metadata": {},
   "source": [
    "m. $proj(u,w) = \\frac{u \\cdot w}{\\|w\\|^2} \\cdot w = \\frac{-12}{14} \\cdot \\begin{bmatrix}2 \\\\ 1\\\\ -3\\end{bmatrix} = (-\\frac{12}{7}, -\\frac{6}{7}, \\frac{18}{7})$"
   ]
  },
  {
   "cell_type": "code",
   "execution_count": 35,
   "id": "7e39180e-1617-498f-9797-1c14435d0a63",
   "metadata": {},
   "outputs": [
    {
     "name": "stdout",
     "output_type": "stream",
     "text": [
      "a. 3u-2v:  [ -3 -16  10]\n",
      "b. 5u+3v-4w:  [ 6  1 35]\n",
      "c. u.v:  -3\n",
      "   v.w:  8\n",
      "   v.w:  -12\n",
      "d. ||u||:  4.58257569495584\n",
      "   ||v||:  5.916079783099616\n",
      "   ||w||:  3.7416573867739413\n",
      "e. cos θ:  -0.11065666703449763\n",
      "f. cos α:  0.36140316116210053\n",
      "g. cos β:  -0.6998542122237653\n",
      "h. d(u,v):  7.874007874011811\n",
      "i. d(w,v):  5.744562646538029\n",
      "j. d(u,w):  7.681145747868608\n",
      "k. proj(u,v):  [-0.25714286 -0.42857143 -0.08571429]\n",
      "l. proj(w,v):  [0.68571429 1.14285714 0.22857143]\n",
      "m. proj(u,w):  [-1.71428571 -0.85714286  2.57142857]\n"
     ]
    }
   ],
   "source": [
    "import numpy as np\n",
    "u = np.array([1,-2,4])\n",
    "v = np.array([3,5,1])\n",
    "w = np.array([2,1,-3])\n",
    "print(\"a. 3u-2v: \", (3*u) - (2*v)) \n",
    "print(\"b. 5u+3v-4w: \", (5*u) + (3*v) - (4*w))\n",
    "print(\"c. u.v: \", u.dot(v))\n",
    "print(\"   v.w: \", v.dot(w))\n",
    "print(\"   u.w: \", u.dot(w))\n",
    "print(\"d. ||u||: \", np.sqrt(u.dot(u)))\n",
    "print(\"   ||v||: \", np.sqrt(v.dot(v)))\n",
    "print(\"   ||w||: \", np.sqrt(w.dot(w)))\n",
    "print(\"e. cos θ: \", u.dot(v)/(np.linalg.norm(u)*np.linalg.norm(v)))\n",
    "print(\"f. cos α: \", v.dot(w)/(np.linalg.norm(v)*np.linalg.norm(w)))\n",
    "print(\"g. cos β: \", u.dot(w)/(np.linalg.norm(u)*np.linalg.norm(w)))\n",
    "print(\"h. d(u,v): \", np.linalg.norm(u-v))\n",
    "print(\"i. d(w,v): \", np.linalg.norm(w-v))\n",
    "print(\"j. d(u,w): \", np.linalg.norm(u-w))\n",
    "print(\"k. proj(u,v): \", u.dot(v)*v/(np.linalg.norm(v)**2))\n",
    "print(\"l. proj(w,v): \", w.dot(v)*v/(np.linalg.norm(v)**2))\n",
    "print(\"m. proj(u,w): \", u.dot(w)*w/(np.linalg.norm(w)**2))"
   ]
  },
  {
   "cell_type": "markdown",
   "id": "e66ddb4e-fc9a-486e-abbb-df0e028219eb",
   "metadata": {},
   "source": [
    "### 2. $ u =\\begin{bmatrix}1 \\\\ 3\\\\ -4\\end{bmatrix}, v = \\begin{bmatrix}2 \\\\ 1\\\\ 5\\end{bmatrix}, w = \\begin{bmatrix}3 \\\\ -2\\\\ 6\\end{bmatrix}$"
   ]
  },
  {
   "cell_type": "markdown",
   "id": "8a5d21ad-e5f5-4829-81dc-d1cf9165188e",
   "metadata": {},
   "source": [
    "a. $3u - 2v = 3u' - 2v' = 3\\begin{bmatrix}1 \\\\ 3\\\\ -4\\end{bmatrix} - 2\\begin{bmatrix}2 \\\\ 1\\\\ 5\\end{bmatrix} = \\begin{bmatrix}3 \\\\ 9\\\\ -12\\end{bmatrix} - \\begin{bmatrix}4 \\\\ 2\\\\ 10\\end{bmatrix} = \\begin{bmatrix}-1 \\\\ 7\\\\ -22\\end{bmatrix} = (-1, 7, -22) $"
   ]
  },
  {
   "cell_type": "markdown",
   "id": "121da711-d115-49b4-98bb-757492a50f4a",
   "metadata": {},
   "source": [
    "b. $5u + 3v - 4w = 5u' + 3v' - 4w' = 5\\begin{bmatrix}1 \\\\ 3\\\\ -4\\end{bmatrix} + 3\\begin{bmatrix}2 \\\\ 1\\\\ 5\\end{bmatrix} - 4\\begin{bmatrix}3 \\\\ -2\\\\ 6\\end{bmatrix} = \\begin{bmatrix}5 \\\\ 15\\\\ -20\\end{bmatrix} + \\begin{bmatrix}6 \\\\ 3\\\\ 15\\end{bmatrix} - \\begin{bmatrix}12 \\\\ -8\\\\ 24\\end{bmatrix} = \\begin{bmatrix}-1 \\\\ 26\\\\ -29\\end{bmatrix}$"
   ]
  },
  {
   "cell_type": "markdown",
   "id": "f0c301ec-3131-4b1c-9855-a934fd5d26f1",
   "metadata": {},
   "source": [
    "c. $u \\cdot v = u' \\cdot v' = \\begin{bmatrix}1 \\\\ 3\\\\ -4\\end{bmatrix} \\cdot \\begin{bmatrix}2 \\\\ 1\\\\ 5\\end{bmatrix} = \\begin{bmatrix}2 \\\\ 3\\\\ -20\\end{bmatrix} = -15$ <br>\n",
    "    $v \\cdot w = v' \\cdot w' = \\begin{bmatrix}2 \\\\ 1\\\\ 5\\end{bmatrix} \\cdot \\begin{bmatrix}3 \\\\ -2\\\\ 6\\end{bmatrix} = \\begin{bmatrix}6 \\\\ -2\\\\30\\end{bmatrix} = 34$ <br>\n",
    "    $u \\cdot w = u' \\cdot w' = \\begin{bmatrix}1 \\\\ 3\\\\ -4\\end{bmatrix} \\cdot \\begin{bmatrix}3 \\\\ -2\\\\ 6\\end{bmatrix} = \\begin{bmatrix}3 \\\\ -6\\\\ -24\\end{bmatrix} = -27$"
   ]
  },
  {
   "cell_type": "markdown",
   "id": "b1a08227-7f45-4cb9-aab6-d61b096f7f47",
   "metadata": {},
   "source": [
    "d. $ ||u|| =  \\sqrt{1^2 + 3^2 + (-4)^2} = \\sqrt{1+9+16} = \\sqrt{26} $ <br>\n",
    "    $ ||v|| = \\sqrt{2^2 + 1^2 + 5^2} = \\sqrt{4+1+25} = \\sqrt{30} $ <br>\n",
    "    $ ||w|| = \\sqrt{3^2 + (-2)^2 + 6^2} = \\sqrt{9+4+36} = \\sqrt{49} = 7 $"
   ]
  },
  {
   "cell_type": "markdown",
   "id": "ee7cf97b-08e6-47a9-a9f0-7ea570446bbf",
   "metadata": {},
   "source": [
    "e. $\\theta$ is the angle between $u$ and $v$ <br>\n",
    "    $ cos\\theta = \\frac{u \\cdot v}{\\left\\|u\\right\\| \\left\\|v\\right\\|} = \\frac{-15}{\\sqrt{26} \\sqrt{30}} $"
   ]
  },
  {
   "cell_type": "markdown",
   "id": "f50ed719-9572-48a6-bb90-fdb0e8d3228c",
   "metadata": {},
   "source": [
    "f. $\\alpha$ is the angle between $v$ and $w$ <br>\n",
    "    $ cos\\alpha = \\frac{v \\cdot w}{\\left\\|v\\right\\| \\left\\|w\\right\\|} = \\frac{34}{7 \\sqrt{30}} $"
   ]
  },
  {
   "cell_type": "markdown",
   "id": "12610456-b8a6-4790-bfa2-ba66e4d48c33",
   "metadata": {},
   "source": [
    "g. $\\beta$ is the angle between $u$ and $w$ <br>\n",
    "    $ cos\\beta = \\frac{u \\cdot w}{\\left\\|u\\right\\| \\left\\|w\\right\\|} = \\frac{-27}{7 \\sqrt{26}} $"
   ]
  },
  {
   "cell_type": "markdown",
   "id": "98d12d69-08cd-4eb3-be35-6b7a182ba360",
   "metadata": {},
   "source": [
    "h. $ d(u,v) = ||u-v|| = \\left\\|\\begin{bmatrix}1 \\\\ 3\\\\ -4\\end{bmatrix} - \\begin{bmatrix}2 \\\\ 1\\\\ 5\\end{bmatrix}\\right\\| = \\left\\|\\begin{bmatrix}-1 \\\\ 2\\\\ -9\\end{bmatrix}\\right\\| = \\sqrt{(-1)^2 + 2^2 + (-9)^2} = \\sqrt{1+4+81} = \\sqrt{86}$"
   ]
  },
  {
   "cell_type": "markdown",
   "id": "4a5eb4ff-1823-4897-a5ed-92e8935b67a3",
   "metadata": {},
   "source": [
    "i. $ d(w,v) = ||w-v|| = \\left\\|\\begin{bmatrix}3 \\\\ -2\\\\ 6\\end{bmatrix} - \\begin{bmatrix}2 \\\\ 1\\\\ 5\\end{bmatrix}\\right\\| = \\left\\|\\begin{bmatrix}1 \\\\ -3\\\\ 1\\end{bmatrix}\\right\\| = \\sqrt{1^2 + (-3)^2 + 1^2} = \\sqrt{1+9+1} = \\sqrt{11}\n",
    "$"
   ]
  },
  {
   "cell_type": "markdown",
   "id": "a699d655-e803-4353-affe-b5051676be72",
   "metadata": {},
   "source": [
    "j. $ d(u,w) = ||u-w|| = \\left\\|\\begin{bmatrix}1 \\\\ 3\\\\ -4\\end{bmatrix} - \\begin{bmatrix}3 \\\\ -2\\\\ 6\\end{bmatrix}\\right\\| = \\left\\|\\begin{bmatrix}-2 \\\\ 5\\\\ -10\\end{bmatrix}\\right\\| = \\sqrt{(-2)^2 + 5^2 + (-10)^2} = \\sqrt{4+25+100} = \\sqrt{129}\n",
    "$"
   ]
  },
  {
   "cell_type": "markdown",
   "id": "ab6e2cd8-4056-4531-944e-6e7dadf9d3fb",
   "metadata": {},
   "source": [
    "k. $proj(u,v) = \\frac{u \\cdot v}{\\|v\\|^2} \\cdot v = \\frac{-1}{2} \\cdot \\begin{bmatrix}2 \\\\ 1\\\\ 5\\end{bmatrix} = \\begin{bmatrix}-1\\\\ -\\frac{1}{2}\\\\ -\\frac{5}{2}\\end{bmatrix}$"
   ]
  },
  {
   "cell_type": "markdown",
   "id": "944c9ec4-2d74-4915-8729-3250ab07d755",
   "metadata": {},
   "source": [
    "l. $proj(w,v) = \\frac{w \\cdot v}{\\|v\\|^2} \\cdot v = \\frac{17}{15} \\cdot \\begin{bmatrix}2 \\\\ 1\\\\ 5\\end{bmatrix} = \\begin{bmatrix}\\frac{34}{15}\\\\ \\frac{17}{15}\\\\ \\frac{17}{3}\\end{bmatrix}$"
   ]
  },
  {
   "cell_type": "markdown",
   "id": "778fdc30-611d-476f-9130-00bf889fa02e",
   "metadata": {},
   "source": [
    "m. $proj(u,w) = \\frac{u \\cdot w}{\\|w\\|^2} \\cdot w = \\frac{-27}{49} \\cdot \\begin{bmatrix}3 \\\\ -2\\\\ 6\\end{bmatrix} = \\begin{bmatrix}\\frac{-81}{49}\\\\ \\frac{54}{49}\\\\ \\frac{-162}{49}\\end{bmatrix}$"
   ]
  },
  {
   "cell_type": "code",
   "execution_count": 36,
   "id": "5a52f087-0ec9-4a6e-bf7f-a83cf7f906fd",
   "metadata": {},
   "outputs": [
    {
     "name": "stdout",
     "output_type": "stream",
     "text": [
      "a. 3u-2v:  [ -1   7 -22]\n",
      "b. 5u+3v-4w:  [ -1  26 -29]\n",
      "c. u.v:  -15\n",
      "   v.w:  34\n",
      "   v.w:  -27\n",
      "d. ||u||:  5.0990195135927845\n",
      "   ||v||:  5.477225575051661\n",
      "   ||w||:  7.0\n",
      "e. cos θ:  -0.5370861555295747\n",
      "f. cos α:  0.8867889026274118\n",
      "g. cos β:  -0.7564479498187099\n",
      "h. d(u,v):  9.273618495495704\n",
      "i. d(w,v):  3.3166247903554\n",
      "j. d(u,w):  11.357816691600547\n",
      "k. proj(u,v):  [-1.  -0.5 -2.5]\n",
      "l. proj(w,v):  [2.26666667 1.13333333 5.66666667]\n",
      "m. proj(u,w):  [-1.65306122  1.10204082 -3.30612245]\n"
     ]
    }
   ],
   "source": [
    "import numpy as np\n",
    "u = np.array([1,3,-4])\n",
    "v = np.array([2,1,5])\n",
    "w = np.array([3,-2,6])\n",
    "print(\"a. 3u-2v: \", (3*u) - (2*v)) \n",
    "print(\"b. 5u+3v-4w: \", (5*u) + (3*v) - (4*w))\n",
    "print(\"c. u.v: \", u.dot(v))\n",
    "print(\"   v.w: \", v.dot(w))\n",
    "print(\"   u.w: \", u.dot(w))\n",
    "print(\"d. ||u||: \", np.sqrt(u.dot(u)))\n",
    "print(\"   ||v||: \", np.sqrt(v.dot(v)))\n",
    "print(\"   ||w||: \", np.sqrt(w.dot(w)))\n",
    "print(\"e. cos θ: \", u.dot(v)/(np.linalg.norm(u)*np.linalg.norm(v)))\n",
    "print(\"f. cos α: \", v.dot(w)/(np.linalg.norm(v)*np.linalg.norm(w)))\n",
    "print(\"g. cos β: \", u.dot(w)/(np.linalg.norm(u)*np.linalg.norm(w)))\n",
    "print(\"h. d(u,v): \", np.linalg.norm(u-v))\n",
    "print(\"i. d(w,v): \", np.linalg.norm(w-v))\n",
    "print(\"j. d(u,w): \", np.linalg.norm(u-w))\n",
    "print(\"k. proj(u,v): \", u.dot(v)*v/(np.linalg.norm(v)**2))\n",
    "print(\"l. proj(w,v): \", w.dot(v)*v/(np.linalg.norm(v)**2))\n",
    "print(\"m. proj(u,w): \", u.dot(w)*w/(np.linalg.norm(w)**2))"
   ]
  },
  {
   "cell_type": "markdown",
   "id": "6a35c3cf-5194-4c7f-9692-d5a1322107c2",
   "metadata": {},
   "source": [
    "### 3. Let u = (2,-5,4,6,-3), v = (5,-2,1,-7,-4), and w = (2,1,-3)"
   ]
  },
  {
   "cell_type": "markdown",
   "id": "d3a49a17-b0d4-4975-b660-d8de27407579",
   "metadata": {},
   "source": [
    "a. $4u - 3v = 4u' - 3v' = 4\\begin{bmatrix}2 \\\\ -5\\\\ 4 \\\\6 \\\\-3\\end{bmatrix} - 3\\begin{bmatrix}5 \\\\ -2\\\\ 1 \\\\-7 \\\\-4 \\end{bmatrix} = \\begin{bmatrix}8 \\\\ -20\\\\ 16 \\\\ 24 \\\\-12 \\end{bmatrix} - \\begin{bmatrix}15 \\\\ -6\\\\ 3 \\\\ -21 \\\\ -12\\end{bmatrix} = \\begin{bmatrix}-7 \\\\ -14\\\\ 13 \\\\ 45 \\\\ 0\\end{bmatrix} = (-7, -14, 13,45,0) $"
   ]
  },
  {
   "cell_type": "markdown",
   "id": "666b4b6e-d0bc-4a52-b0ad-c8f9c92c8016",
   "metadata": {},
   "source": [
    "b. $5u + 2v - 2w = $ not possible"
   ]
  },
  {
   "cell_type": "markdown",
   "id": "8501978f-5ed8-45ee-95b1-1d27a359ce99",
   "metadata": {},
   "source": [
    "c. $u \\cdot v = u' \\cdot v' = \\begin{bmatrix}2 \\\\ -5\\\\ 4 \\\\ 6 \\\\ -3\\end{bmatrix} \\cdot \\begin{bmatrix}5 \\\\ -2\\\\ 1 \\\\ -7 \\\\ -4\\end{bmatrix} = \\begin{bmatrix}10 \\\\ 10\\\\ 4 \\\\ -42\\\\ 12\\end{bmatrix} = -6$ <br>\n",
    "    $v \\cdot w = $ not possible  <br>\n",
    "    $u \\cdot w = $ not possible"
   ]
  },
  {
   "cell_type": "markdown",
   "id": "8d011d2e-5d81-4e54-b128-d5c7774f9d30",
   "metadata": {},
   "source": [
    "d. $ ||u|| =  \\sqrt{2^2 + (-5)^2 + 4^2 + 6^2 + (-3)^2} = \\sqrt{4+25+16+36+9} = \\sqrt{90} $ <br>\n",
    "    $ ||v|| = \\sqrt{5^2 + (-2)^2 + 1^2 + (-7)^2 +(-4)^2} = \\sqrt{25+4+1+49+16} = \\sqrt{95} $ <br>\n",
    "    $ ||w|| = \\sqrt{2^2 + 1^2 + (-3)^2 + 0^2 +0^2} = \\sqrt{4+1+9} = \\sqrt{14}$"
   ]
  },
  {
   "cell_type": "markdown",
   "id": "2128422a-97f8-408b-9da2-5f332ac4b7e3",
   "metadata": {},
   "source": [
    "e. $\\theta$ is the angle between $u$ and $v$ <br>\n",
    "    $ cos\\theta = \\frac{u \\cdot v}{\\left\\|u\\right\\| \\left\\|v\\right\\|} = \\frac{-6}{\\sqrt{90} \\sqrt{95}} $"
   ]
  },
  {
   "cell_type": "markdown",
   "id": "c4760ccd-b3d4-4b23-860c-8e349dc00e23",
   "metadata": {},
   "source": [
    "f. $\\alpha$ is the angle between $v$ and $w$ <br>\n",
    "    $ cos\\alpha = $ not possible"
   ]
  },
  {
   "cell_type": "markdown",
   "id": "4d7fffdf-1ed8-4f04-8c3e-6d037249f2d4",
   "metadata": {},
   "source": [
    "g. $\\beta$ is the angle between $u$ and $w$ <br>\n",
    "    $ cos\\beta =  $ not possible"
   ]
  },
  {
   "cell_type": "markdown",
   "id": "7d2494ed-05da-4537-b3bc-66fb9f21252d",
   "metadata": {},
   "source": [
    "h. $ d(u,v) = ||u-v|| = \\left\\|\\begin{bmatrix}2 \\\\ -5\\\\ 4 \\\\ 6 \\\\ -3\\end{bmatrix} - \\begin{bmatrix}5 \\\\ -2\\\\ 1 \\\\ -7 \\\\ -4\\end{bmatrix}\\right\\| = \\left\\|\\begin{bmatrix}-3 \\\\ -3\\\\ 3 \\\\ 13 \\\\ 1\\end{bmatrix}\\right\\| = \\sqrt{(-3)^2+(-3)^2 + 3^2 + 13^2 + 1^2} = \\sqrt{9+9+9+169+1} = \\sqrt{197}$"
   ]
  },
  {
   "cell_type": "markdown",
   "id": "240fc7a8-6a86-4b96-a3d3-2e1da841ca8b",
   "metadata": {},
   "source": [
    "i. $ d(w,v) = $ not possible"
   ]
  },
  {
   "cell_type": "markdown",
   "id": "a23d7e35-525b-4277-a36d-d34a7392033d",
   "metadata": {},
   "source": [
    "j. $ d(u,w) = $ not possible"
   ]
  },
  {
   "cell_type": "markdown",
   "id": "90b6a180-84e8-4925-a2ed-8afaaa84ebbf",
   "metadata": {},
   "source": [
    "k. $proj(u,v) = \\frac{u \\cdot v}{\\|v\\|^2} \\cdot v = \\frac{-6}{95} \\cdot \\begin{bmatrix}5 \\\\ -2\\\\ 1 \\\\ -7 \\\\ -4\\end{bmatrix} = (\\frac{-6}{19}, \\frac{12}{95}, \\frac{-6}{95}, \\frac{42}{95}, \\frac{24}{95})$"
   ]
  },
  {
   "cell_type": "markdown",
   "id": "1dcea57e-aeec-4ea2-82de-22ac860445e6",
   "metadata": {},
   "source": [
    "l. $proj(w,v) = $ not possible"
   ]
  },
  {
   "cell_type": "markdown",
   "id": "624d4a2b-da8a-498b-a42f-1a166e1dc6a2",
   "metadata": {},
   "source": [
    "m. $proj(u,w) = $ not possible"
   ]
  },
  {
   "cell_type": "code",
   "execution_count": 8,
   "id": "08e4d014-234d-471f-a038-43da051820cd",
   "metadata": {},
   "outputs": [
    {
     "name": "stdout",
     "output_type": "stream",
     "text": [
      "a. 4u-3v:  [ -7 -14  13  45   0]\n",
      "b. 5u+2v-2w: not possible\n",
      "c. u.v:  -6\n",
      "   v.w: not possible\n",
      "   u.w: not possbile\n",
      "d. ||u||:  9.486832980505138\n",
      "   ||v||:  9.746794344808963\n",
      "   ||w||:  3.7416573867739413\n",
      "e. cos θ:  -0.06488856845230502\n",
      "f. cos α: not possible\n",
      "g. cos β: not possible\n",
      "h. d(u,v):  14.035668847618199\n",
      "i. d(w,v): not possible\n",
      "j. d(u,w): not possible\n",
      "k. proj(u,v):  [-0.31578947  0.12631579 -0.06315789  0.44210526  0.25263158]\n",
      "l. proj(w,v): not possible\n",
      "m. proj(u,w): not possible\n"
     ]
    }
   ],
   "source": [
    "import numpy as np\n",
    "u = np.array([2,-5,4,6,-3])\n",
    "v = np.array([5,-2,1,-7,-4])\n",
    "w = np.array([2,1,-3])\n",
    "print(\"a. 4u-3v: \", (4*u) - (3*v)) \n",
    "print(\"b. 5u+2v-2w: not possible\",)\n",
    "print(\"c. u.v: \", u.dot(v))\n",
    "print(\"   v.w: not possible\")\n",
    "print(\"   u.w: not possbile\")\n",
    "print(\"d. ||u||: \", np.sqrt(u.dot(u)))\n",
    "print(\"   ||v||: \", np.sqrt(v.dot(v)))\n",
    "print(\"   ||w||: \", np.sqrt(w.dot(w)))\n",
    "print(\"e. cos θ: \", u.dot(v)/(np.linalg.norm(u)*np.linalg.norm(v)))\n",
    "print(\"f. cos α: not possible\")\n",
    "print(\"g. cos β: not possible\")\n",
    "print(\"h. d(u,v): \", np.linalg.norm(u-v))\n",
    "print(\"i. d(w,v): not possible\")\n",
    "print(\"j. d(u,w): not possible\")\n",
    "print(\"k. proj(u,v): \", u.dot(v)*v/(np.linalg.norm(v)**2))\n",
    "print(\"l. proj(w,v): not possible\")\n",
    "print(\"m. proj(u,w): not possible\")"
   ]
  },
  {
   "cell_type": "markdown",
   "id": "013f8dc0-023d-44da-8679-9ef3b18b0be6",
   "metadata": {},
   "source": [
    "### 4.Normalize each vector"
   ]
  },
  {
   "cell_type": "markdown",
   "id": "494d242d-0e9e-4d33-be75-703b70484438",
   "metadata": {},
   "source": [
    "a. $ u = (5,-7) $ <br>\n",
    "$ \\|u\\| = \\sqrt{5^2 + (-7)^2} = \\sqrt{25+49} = \\sqrt{74} $ <br> \n",
    "$u' = \\frac{1 \\cdot u}{\\|u\\|} = \\frac{1}{\\sqrt{74}} \\cdot \\begin{bmatrix}5 \\\\ -7\\end{bmatrix} = (\\frac{5}{\\sqrt{74}} , \\frac{-7}{\\sqrt{74}}) $"
   ]
  },
  {
   "cell_type": "markdown",
   "id": "6363b63e-1e3d-4beb-8fff-5a654a19dca9",
   "metadata": {},
   "source": [
    "b. $ v = (1,2,-2,4) $ <br>\n",
    "$ \\|v\\| = \\sqrt{1^2 + 2^2 +(-2)^2 + 4^2} = \\sqrt{1+4+4+16} = \\sqrt{25} = 5$ <br> \n",
    "$v' = \\frac{1 \\cdot v}{\\|v\\|} = \\frac{1}{5} \\cdot \\begin{bmatrix}1 \\\\2 \\\\-2 \\\\ 4\\end{bmatrix} = (\\frac{1}{5} , \\frac{2}{5}, \\frac{-2}{5}, \\frac{4}{5}) $"
   ]
  },
  {
   "cell_type": "markdown",
   "id": "13dc2de9-d72c-4a3e-ad37-3e2b1d5d2bd9",
   "metadata": {},
   "source": [
    "b. $ w = (\\frac{1}{2}, \\frac{-1}{3},\\frac{3}{4}) $ <br>\n",
    "$ \\|w\\| = \\sqrt{(\\frac{1}{2})^2 + (\\frac{-1}{3})^2 +(\\frac{3}{4})^2} = \\sqrt{\\frac{1}{4}+\\frac{1}{9}+\\frac{9}{16}} = \\sqrt{\\frac{133}{144}} = \\frac{\\sqrt{133}}{12}$ <br> \n",
    "$w' = \\frac{1 \\cdot w}{\\|w\\|} = \\frac{12}{\\sqrt{133}} \\cdot \\begin{bmatrix}\\frac{1}{2} \\\\ \\frac{-1}{3} \\\\ \\frac{3}{4} \\end{bmatrix} = \\left(\\frac{12}{2\\sqrt{133}}, \\frac{-12}{3\\sqrt{133}}, \\frac{36}{4\\sqrt{133}}\\right) = \\left(\\frac{6}{\\sqrt{133}}, \\frac{-4}{\\sqrt{133}}, \\frac{9}{\\sqrt{133}}\\right) $"
   ]
  },
  {
   "cell_type": "code",
   "execution_count": 54,
   "id": "7d3203ac-196e-4050-82a5-0b0477b709c6",
   "metadata": {},
   "outputs": [
    {
     "name": "stdout",
     "output_type": "stream",
     "text": [
      "a. u':  [ 0.58123819 -0.81373347]\n",
      "b. v':  [ 0.2  0.4 -0.4  0.8]\n",
      "c. w':  [ 0.52026598 -0.34684399  0.78039897]\n"
     ]
    }
   ],
   "source": [
    "import numpy as np\n",
    "u = np.array([5,-7])\n",
    "v = np.array([1,2,-2,4])\n",
    "w = np.array([(1/2),(-1/3),(3/4)])\n",
    "print(\"a. u': \", u/np.sqrt(u.dot(u)))\n",
    "print(\"b. v': \", v/np.sqrt(v.dot(v)))\n",
    "print(\"c. w': \", w/np.sqrt(w.dot(w)))"
   ]
  },
  {
   "cell_type": "markdown",
   "id": "530e9896-c871-4170-8e89-b033ab80331e",
   "metadata": {},
   "source": [
    "### 5. Let u = (1,2,-2), v = (3,-12,4), and a scalar k = -3"
   ]
  },
  {
   "cell_type": "markdown",
   "id": "9b850cf5-f47a-4873-b5a6-7579414da845",
   "metadata": {},
   "source": [
    "$ \\|u\\| = \\sqrt{1^2 + 2^2 + (-2)^2} = \\sqrt{1+4+4} = \\sqrt{9} = 3$"
   ]
  },
  {
   "cell_type": "markdown",
   "id": "8998e883-ff9f-4659-9c8b-d42ae72ca4b7",
   "metadata": {},
   "source": [
    "$ \\|v\\| = \\sqrt{3^2+(-12)^2+4^2} = \\sqrt{9+144+16} = \\sqrt{169} = 13 $"
   ]
  },
  {
   "cell_type": "markdown",
   "id": "7bed62a4-fed6-4e83-a242-aaf7fa27a50b",
   "metadata": {},
   "source": [
    "$\\|u+v\\| = \\left\\| \\begin{bmatrix}1 \\\\2 \\\\-2 \\end{bmatrix} + \\begin{bmatrix}3 \\\\-12 \\\\4 \\end{bmatrix} \\right\\| = \\left\\|\\begin{bmatrix}4 \\\\-10 \\\\2 \\end{bmatrix} \\right\\| = \\sqrt{4^2 + (-10)^2 + 2^2} = \\sqrt{16+100+4} = \\sqrt{120}$"
   ]
  },
  {
   "cell_type": "markdown",
   "id": "cfa8d7c3-7fc4-40b5-b91d-d2f5987fc229",
   "metadata": {},
   "source": [
    "$\\|ku\\| = \\left\\| -3 \\cdot \\begin{bmatrix}1 \\\\2 \\\\-2 \\end{bmatrix} \\right\\| = \\left\\|\\begin{bmatrix}-3 \\\\-6 \\\\6 \\end{bmatrix} \\right\\| = \\sqrt{(-3)^2 + (-6)^2 + 6^2} = \\sqrt{9+36+36} = \\sqrt{81} = 9$"
   ]
  },
  {
   "cell_type": "code",
   "execution_count": 58,
   "id": "d456098a-1f15-4b40-9e16-44ce367885e2",
   "metadata": {},
   "outputs": [
    {
     "name": "stdout",
     "output_type": "stream",
     "text": [
      "||u||:  3.0\n",
      "||v||:  13.0\n",
      "||u+v||:  10.954451150103322\n",
      "||ku||:  9.0\n"
     ]
    }
   ],
   "source": [
    "import numpy as np\n",
    "u = np.array([1,2,-2])\n",
    "v = np.array([3,-12,4])\n",
    "k = -3\n",
    "print(\"||u||: \", np.sqrt(u.dot(u)))\n",
    "print(\"||v||: \", np.sqrt(v.dot(v)))\n",
    "print(\"||u+v||: \", np.sqrt((u+v).dot((u+v))))\n",
    "print(\"||ku||: \", np.sqrt((k*u).dot((k*u))))"
   ]
  },
  {
   "cell_type": "markdown",
   "id": "edb60304-96b1-4790-a0c3-a58f1f5b7cbe",
   "metadata": {},
   "source": [
    "### 6. Find k so that u and v are orthogonal"
   ]
  },
  {
   "cell_type": "markdown",
   "id": "e53ba93d-5b4f-4acc-b089-28a884314dda",
   "metadata": {},
   "source": [
    "a. $u = (3,k,-2), v = (6,-4,-3) $ <br>\n",
    "$ u \\cdot v = \\begin{bmatrix}3 \\\\k \\\\-2 \\end{bmatrix} \\cdot \\begin{bmatrix}6 \\\\-4 \\\\-3 \\end{bmatrix} = \\begin{bmatrix}18 \\\\-4k \\\\6 \\end{bmatrix} $ <br>\n",
    "$ 18-4k+ 6 = 0 $ <br> $18+6 = 4k $<br> $4k =24$ <br> $k = 6 $"
   ]
  },
  {
   "cell_type": "markdown",
   "id": "82514038-e210-453b-9c5b-4765bd4b544d",
   "metadata": {},
   "source": [
    "b. $u = (5,k, -4, 2), v = (1,-3,2, 2k) $ <br>\n",
    "$ u \\cdot v = \\begin{bmatrix}5 \\\\k \\\\-4 \\\\2 \\end{bmatrix} \\cdot \\begin{bmatrix}1 \\\\-3 \\\\2 \\\\2k \\end{bmatrix} = \\begin{bmatrix}5 \\\\-3k \\\\-8 \\\\4k \\end{bmatrix} $ <br>\n",
    "$ 5-3k-8+4k = 0 $ <br> $-3k+4k = 8-5 $<br> $k =3$  "
   ]
  },
  {
   "cell_type": "markdown",
   "id": "711b9364-b6b4-461c-82a9-ffef85bb65ef",
   "metadata": {},
   "source": [
    "c. $u = (1,7, k+2, -2), v = (3,k,-3,k) $ <br>\n",
    "$ u \\cdot v = \\begin{bmatrix}1 \\\\7 \\\\k+2 \\\\-2 \\end{bmatrix} \\cdot \\begin{bmatrix}3 \\\\k \\\\-3 \\\\k \\end{bmatrix} = \\begin{bmatrix}3 \\\\7k \\\\-3k-6 \\\\-2k \\end{bmatrix} $ <br>\n",
    "$ 3+7k-3k-6+2k = 0 $ <br> $3-6+7k-3k-2k = 0 $<br> $-3+2k = 0$ <br> $2k = 3$ <br> $k = \\frac{3}{2}$  "
   ]
  },
  {
   "cell_type": "code",
   "execution_count": 63,
   "id": "18d2db1a-c58b-43cf-adc0-9efef72e13d6",
   "metadata": {},
   "outputs": [
    {
     "name": "stdout",
     "output_type": "stream",
     "text": [
      "a. u . v:  0\n",
      "b. u . v:  0\n",
      "c. u . v:  0.0\n"
     ]
    }
   ],
   "source": [
    "import numpy as np\n",
    "#a. k = 6\n",
    "u = np.array([3,6,-2])\n",
    "v = np.array([6,-4,-3])\n",
    "print(\"a. u . v: \", u.dot(v))\n",
    "#b. k = 3\n",
    "u = np.array([5,3,-4, 2])\n",
    "v = np.array([1,-3,2, 6])\n",
    "print(\"b. u . v: \", u.dot(v))\n",
    "#c. k = 3/2\n",
    "u = np.array([1,7,3.5, -2])\n",
    "v = np.array([3,1.5,-3, 1.5])\n",
    "print(\"c. u . v: \", u.dot(v))"
   ]
  }
 ],
 "metadata": {
  "kernelspec": {
   "display_name": "Python 3 (ipykernel)",
   "language": "python",
   "name": "python3"
  },
  "language_info": {
   "codemirror_mode": {
    "name": "ipython",
    "version": 3
   },
   "file_extension": ".py",
   "mimetype": "text/x-python",
   "name": "python",
   "nbconvert_exporter": "python",
   "pygments_lexer": "ipython3",
   "version": "3.11.5"
  }
 },
 "nbformat": 4,
 "nbformat_minor": 5
}
